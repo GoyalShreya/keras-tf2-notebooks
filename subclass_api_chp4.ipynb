{
 "cells": [
  {
   "cell_type": "code",
   "execution_count": 60,
   "id": "62e58842",
   "metadata": {},
   "outputs": [],
   "source": [
    "import tensorflow as tf\n",
    "from tensorflow import keras"
   ]
  },
  {
   "cell_type": "code",
   "execution_count": 61,
   "id": "7c9fec8c",
   "metadata": {},
   "outputs": [
    {
     "name": "stdout",
     "output_type": "stream",
     "text": [
      "2.8.0\n",
      "2.8.0\n"
     ]
    }
   ],
   "source": [
    "print(tf.__version__)\n",
    "print(keras.__version__)"
   ]
  },
  {
   "cell_type": "markdown",
   "id": "c1b912d0",
   "metadata": {},
   "source": [
    "## Subclass API to build models"
   ]
  },
  {
   "cell_type": "code",
   "execution_count": 62,
   "id": "d4920afd",
   "metadata": {},
   "outputs": [],
   "source": [
    "from sklearn.datasets import fetch_california_housing\n",
    "from sklearn.model_selection import train_test_split\n",
    "from sklearn.preprocessing import StandardScaler"
   ]
  },
  {
   "cell_type": "code",
   "execution_count": 63,
   "id": "41cd7450",
   "metadata": {},
   "outputs": [],
   "source": [
    "housing = fetch_california_housing()\n",
    "X_train, X_test, Y_train, Y_test = train_test_split(housing.data, housing.target)\n",
    "X_train, X_valid, Y_train, Y_valid = train_test_split(X_train, Y_train)\n",
    "scaler = StandardScaler()\n",
    "X_train = scaler.fit_transform(X_train)\n",
    "X_valid = scaler.transform(X_valid)\n",
    "X_test = scaler.transform(X_test)\n"
   ]
  },
  {
   "cell_type": "code",
   "execution_count": 64,
   "id": "9d6fbb6a",
   "metadata": {},
   "outputs": [],
   "source": [
    "X_train_A, X_train_B = X_train[:,:5], X_train[:, :3]\n",
    "X_valid_A, X_valid_B = X_valid[:,:5], X_valid[:, :3]\n",
    "X_test_A, X_test_B = X_test[:, :5], X_test[:, :3]"
   ]
  },
  {
   "cell_type": "code",
   "execution_count": 81,
   "id": "42284d8e",
   "metadata": {},
   "outputs": [],
   "source": [
    "class WideAndDeepModel(keras.Model):\n",
    "    def __init__(self, units=30, activation=\"relu\", **kwargs):\n",
    "        super().__init__(**kwargs)\n",
    "        self.hidden1 = keras.layers.Dense(units, activation=activation)\n",
    "        print(self.hidden1)\n",
    "        self.hidden2 = keras.layers.Dense(units, activation=activation)\n",
    "        self.main_op = keras.layers.Dense(1)\n",
    "        self.aux_op = keras.layers.Dense(1)\n",
    "    \n",
    "    def call(self, inputs):\n",
    "        input_A, input_B = inputs\n",
    "        hidden1 = self.hidden1(input_A)\n",
    "        hidden2 = self.hidden2(hidden1)\n",
    "        concat = keras.layers.concatenate([input_A, hidden2])\n",
    "        main_op= self.main_op(concat)\n",
    "        aux_op = self.aux_op(hidden2)\n",
    "        return main_op, aux_op"
   ]
  },
  {
   "cell_type": "code",
   "execution_count": 83,
   "id": "0d05484b",
   "metadata": {},
   "outputs": [
    {
     "name": "stdout",
     "output_type": "stream",
     "text": [
      "<keras.layers.core.dense.Dense object at 0x7fda7a772f10>\n"
     ]
    }
   ],
   "source": [
    "model = WideAndDeepModel()"
   ]
  },
  {
   "cell_type": "code",
   "execution_count": 86,
   "id": "037c0926",
   "metadata": {},
   "outputs": [
    {
     "name": "stdout",
     "output_type": "stream",
     "text": [
      "Model: \"wide_and_deep_model_33\"\n",
      "_________________________________________________________________\n",
      " Layer (type)                Output Shape              Param #   \n",
      "=================================================================\n",
      " dense_12 (Dense)            multiple                  180       \n",
      "                                                                 \n",
      " dense_13 (Dense)            multiple                  930       \n",
      "                                                                 \n",
      " dense_14 (Dense)            multiple                  36        \n",
      "                                                                 \n",
      " dense_15 (Dense)            multiple                  31        \n",
      "                                                                 \n",
      "=================================================================\n",
      "Total params: 1,177\n",
      "Trainable params: 1,177\n",
      "Non-trainable params: 0\n",
      "_________________________________________________________________\n"
     ]
    }
   ],
   "source": [
    "model.compile(loss=[\"mse\", \"mse\"], loss_weights=[0.9, 0.1], optimizer=\"sgd\")"
   ]
  },
  {
   "cell_type": "code",
   "execution_count": 85,
   "id": "2e081815",
   "metadata": {},
   "outputs": [
    {
     "name": "stdout",
     "output_type": "stream",
     "text": [
      "Epoch 1/20\n",
      "363/363 [==============================] - 3s 6ms/step - loss: 0.8922 - output_1_loss: 0.8051 - output_2_loss: 1.6769 - val_loss: 0.6641 - val_output_1_loss: 0.6518 - val_output_2_loss: 0.7751\n",
      "Epoch 2/20\n",
      "363/363 [==============================] - 2s 5ms/step - loss: 0.6424 - output_1_loss: 0.6350 - output_2_loss: 0.7090 - val_loss: 0.5984 - val_output_1_loss: 0.5902 - val_output_2_loss: 0.6720\n",
      "Epoch 3/20\n",
      "363/363 [==============================] - 2s 5ms/step - loss: 0.5921 - output_1_loss: 0.5857 - output_2_loss: 0.6497 - val_loss: 0.5789 - val_output_1_loss: 0.5715 - val_output_2_loss: 0.6458\n",
      "Epoch 4/20\n",
      "363/363 [==============================] - 2s 5ms/step - loss: 0.5713 - output_1_loss: 0.5653 - output_2_loss: 0.6246 - val_loss: 0.5665 - val_output_1_loss: 0.5600 - val_output_2_loss: 0.6253\n",
      "Epoch 5/20\n",
      "363/363 [==============================] - 2s 5ms/step - loss: 0.5577 - output_1_loss: 0.5521 - output_2_loss: 0.6081 - val_loss: 0.5592 - val_output_1_loss: 0.5533 - val_output_2_loss: 0.6121\n",
      "Epoch 6/20\n",
      "363/363 [==============================] - 2s 5ms/step - loss: 0.5473 - output_1_loss: 0.5420 - output_2_loss: 0.5947 - val_loss: 0.5541 - val_output_1_loss: 0.5487 - val_output_2_loss: 0.6023\n",
      "Epoch 7/20\n",
      "363/363 [==============================] - 2s 5ms/step - loss: 0.5442 - output_1_loss: 0.5397 - output_2_loss: 0.5849 - val_loss: 0.5580 - val_output_1_loss: 0.5538 - val_output_2_loss: 0.5955\n",
      "Epoch 8/20\n",
      "363/363 [==============================] - 2s 5ms/step - loss: 0.5551 - output_1_loss: 0.5526 - output_2_loss: 0.5777 - val_loss: 0.5455 - val_output_1_loss: 0.5413 - val_output_2_loss: 0.5830\n",
      "Epoch 9/20\n",
      "363/363 [==============================] - 2s 5ms/step - loss: 0.5350 - output_1_loss: 0.5310 - output_2_loss: 0.5710 - val_loss: 0.5471 - val_output_1_loss: 0.5436 - val_output_2_loss: 0.5792\n",
      "Epoch 10/20\n",
      "363/363 [==============================] - 2s 5ms/step - loss: 0.5345 - output_1_loss: 0.5311 - output_2_loss: 0.5653 - val_loss: 0.5431 - val_output_1_loss: 0.5395 - val_output_2_loss: 0.5753\n",
      "Epoch 11/20\n",
      "363/363 [==============================] - 2s 5ms/step - loss: 0.5288 - output_1_loss: 0.5252 - output_2_loss: 0.5611 - val_loss: 0.5427 - val_output_1_loss: 0.5397 - val_output_2_loss: 0.5701\n",
      "Epoch 12/20\n",
      "363/363 [==============================] - 2s 5ms/step - loss: 0.5451 - output_1_loss: 0.5437 - output_2_loss: 0.5581 - val_loss: 0.6348 - val_output_1_loss: 0.6417 - val_output_2_loss: 0.5728\n",
      "Epoch 13/20\n",
      "363/363 [==============================] - 2s 5ms/step - loss: 0.5280 - output_1_loss: 0.5250 - output_2_loss: 0.5547 - val_loss: 0.5429 - val_output_1_loss: 0.5404 - val_output_2_loss: 0.5651\n",
      "Epoch 14/20\n",
      "363/363 [==============================] - 2s 5ms/step - loss: 0.5224 - output_1_loss: 0.5192 - output_2_loss: 0.5506 - val_loss: 0.5364 - val_output_1_loss: 0.5336 - val_output_2_loss: 0.5614\n",
      "Epoch 15/20\n",
      "363/363 [==============================] - 2s 5ms/step - loss: 0.5196 - output_1_loss: 0.5165 - output_2_loss: 0.5479 - val_loss: 0.5472 - val_output_1_loss: 0.5456 - val_output_2_loss: 0.5608\n",
      "Epoch 16/20\n",
      "363/363 [==============================] - 2s 5ms/step - loss: 0.5248 - output_1_loss: 0.5225 - output_2_loss: 0.5452 - val_loss: 0.5275 - val_output_1_loss: 0.5244 - val_output_2_loss: 0.5557\n",
      "Epoch 17/20\n",
      "363/363 [==============================] - 2s 5ms/step - loss: 0.5169 - output_1_loss: 0.5139 - output_2_loss: 0.5435 - val_loss: 0.5417 - val_output_1_loss: 0.5400 - val_output_2_loss: 0.5570\n",
      "Epoch 18/20\n",
      "363/363 [==============================] - 2s 5ms/step - loss: 0.5173 - output_1_loss: 0.5147 - output_2_loss: 0.5408 - val_loss: 0.5262 - val_output_1_loss: 0.5235 - val_output_2_loss: 0.5506\n",
      "Epoch 19/20\n",
      "363/363 [==============================] - 2s 5ms/step - loss: 0.5218 - output_1_loss: 0.5198 - output_2_loss: 0.5400 - val_loss: 0.5357 - val_output_1_loss: 0.5336 - val_output_2_loss: 0.5546\n",
      "Epoch 20/20\n",
      "363/363 [==============================] - 2s 5ms/step - loss: 0.5125 - output_1_loss: 0.5097 - output_2_loss: 0.5371 - val_loss: 0.5361 - val_output_1_loss: 0.5342 - val_output_2_loss: 0.5527\n"
     ]
    }
   ],
   "source": [
    "history = model.fit((X_train_A, X_train_B), Y_train, epochs=20, validation_data=((X_valid_A, X_valid_B), Y_valid))"
   ]
  },
  {
   "cell_type": "code",
   "execution_count": 87,
   "id": "19421833",
   "metadata": {},
   "outputs": [
    {
     "name": "stdout",
     "output_type": "stream",
     "text": [
      "Model: \"wide_and_deep_model_33\"\n",
      "_________________________________________________________________\n",
      " Layer (type)                Output Shape              Param #   \n",
      "=================================================================\n",
      " dense_12 (Dense)            multiple                  180       \n",
      "                                                                 \n",
      " dense_13 (Dense)            multiple                  930       \n",
      "                                                                 \n",
      " dense_14 (Dense)            multiple                  36        \n",
      "                                                                 \n",
      " dense_15 (Dense)            multiple                  31        \n",
      "                                                                 \n",
      "=================================================================\n",
      "Total params: 1,177\n",
      "Trainable params: 1,177\n",
      "Non-trainable params: 0\n",
      "_________________________________________________________________\n"
     ]
    }
   ],
   "source": [
    "model.summary()"
   ]
  },
  {
   "cell_type": "code",
   "execution_count": 88,
   "id": "93bef356",
   "metadata": {},
   "outputs": [
    {
     "data": {
      "image/png": "[encoded data removed]",
      "text/plain": [
       "<IPython.core.display.Image object>"
      ]
     },
     "execution_count": 88,
     "metadata": {},
     "output_type": "execute_result"
    }
   ],
   "source": [
    "keras.utils.plot_model(model)"
   ]
  },
  {
   "cell_type": "code",
   "execution_count": null,
   "id": "35e00ea9",
   "metadata": {},
   "outputs": [],
   "source": []
  }
 ],
 "metadata": {
  "kernelspec": {
   "display_name": "Python 3 (ipykernel)",
   "language": "python",
   "name": "python3"
  },
  "language_info": {
   "codemirror_mode": {
    "name": "ipython",
    "version": 3
   },
   "file_extension": ".py",
   "mimetype": "text/x-python",
   "name": "python",
   "nbconvert_exporter": "python",
   "pygments_lexer": "ipython3",
   "version": "3.8.0"
  }
 },
 "nbformat": 4,
 "nbformat_minor": 5
}
