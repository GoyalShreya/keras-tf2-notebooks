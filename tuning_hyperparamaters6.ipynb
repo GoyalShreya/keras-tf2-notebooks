{
 "cells": [
  {
   "cell_type": "code",
   "execution_count": 24,
   "id": "3fab94eb",
   "metadata": {},
   "outputs": [],
   "source": [
    "import tensorflow as tf\n",
    "from tensorflow import keras"
   ]
  },
  {
   "cell_type": "code",
   "execution_count": 25,
   "id": "3f281ebe",
   "metadata": {},
   "outputs": [],
   "source": [
    "from sklearn.datasets import fetch_california_housing\n",
    "from sklearn.model_selection import train_test_split\n",
    "from sklearn.preprocessing import StandardScaler"
   ]
  },
  {
   "cell_type": "code",
   "execution_count": 26,
   "id": "88cef673",
   "metadata": {},
   "outputs": [],
   "source": [
    "housing = fetch_california_housing()"
   ]
  },
  {
   "cell_type": "code",
   "execution_count": 27,
   "id": "9e4dfe70",
   "metadata": {},
   "outputs": [],
   "source": [
    "X_train, X_test, Y_train, Y_test = train_test_split(housing.data, housing.target)"
   ]
  },
  {
   "cell_type": "code",
   "execution_count": 28,
   "id": "5e1fe52b",
   "metadata": {},
   "outputs": [],
   "source": [
    "X_train, X_valid, Y_train, Y_valid = train_test_split(X_train, Y_train)"
   ]
  },
  {
   "cell_type": "code",
   "execution_count": 29,
   "id": "afcd4265",
   "metadata": {},
   "outputs": [],
   "source": [
    "scaler = StandardScaler()\n",
    "X_train = scaler.fit_transform(X_train)\n",
    "X_valid = scaler.transform(X_valid)\n",
    "X_test = scaler.transform(X_test)"
   ]
  },
  {
   "cell_type": "code",
   "execution_count": 30,
   "id": "d4313634",
   "metadata": {},
   "outputs": [],
   "source": [
    "def build_model(n_hidden=1, n_neurons=30, lr_rate=3e-3, input_shape=[8]):\n",
    "    model = keras.models.Sequential()\n",
    "    model.add(keras.layers.Input(shape=input_shape))\n",
    "    for layer in range(n_hidden):\n",
    "        model.add(keras.layers.Dense(n_neurons, activation=\"relu\"))\n",
    "    model.add(keras.layers.Dense(1))\n",
    "    optimizer = keras.optimizers.SGD(lr=lr_rate)\n",
    "    model.compile(loss=\"mse\", optimizer=optimizer)\n",
    "    return model"
   ]
  },
  {
   "cell_type": "code",
   "execution_count": 31,
   "id": "b92d616b",
   "metadata": {},
   "outputs": [
    {
     "name": "stderr",
     "output_type": "stream",
     "text": [
      "/home/gpu/pyenv/py3.8env/lib/python3.8/site-packages/keras/optimizer_v2/gradient_descent.py:102: UserWarning: The `lr` argument is deprecated, use `learning_rate` instead.\n",
      "  super(SGD, self).__init__(name, **kwargs)\n"
     ]
    }
   ],
   "source": [
    "model = build_model()"
   ]
  },
  {
   "cell_type": "code",
   "execution_count": 32,
   "id": "e79ea387",
   "metadata": {},
   "outputs": [
    {
     "name": "stdout",
     "output_type": "stream",
     "text": [
      "Model: \"sequential_3\"\n",
      "_________________________________________________________________\n",
      " Layer (type)                Output Shape              Param #   \n",
      "=================================================================\n",
      " dense_6 (Dense)             (None, 30)                270       \n",
      "                                                                 \n",
      " dense_7 (Dense)             (None, 1)                 31        \n",
      "                                                                 \n",
      "=================================================================\n",
      "Total params: 301\n",
      "Trainable params: 301\n",
      "Non-trainable params: 0\n",
      "_________________________________________________________________\n"
     ]
    }
   ],
   "source": [
    "model.summary()"
   ]
  },
  {
   "cell_type": "code",
   "execution_count": 33,
   "id": "6e611c4d",
   "metadata": {},
   "outputs": [
    {
     "name": "stdout",
     "output_type": "stream",
     "text": [
      "Epoch 1/10\n",
      "363/363 [==============================] - 2s 4ms/step - loss: 1.3894 - val_loss: 0.7430\n",
      "Epoch 2/10\n",
      "363/363 [==============================] - 1s 3ms/step - loss: 0.7071 - val_loss: 0.5982\n",
      "Epoch 3/10\n",
      "363/363 [==============================] - 1s 3ms/step - loss: 0.6210 - val_loss: 0.5462\n",
      "Epoch 4/10\n",
      "363/363 [==============================] - 1s 3ms/step - loss: 0.5670 - val_loss: 0.5088\n",
      "Epoch 5/10\n",
      "363/363 [==============================] - 1s 4ms/step - loss: 0.5315 - val_loss: 0.4876\n",
      "Epoch 6/10\n",
      "363/363 [==============================] - 1s 3ms/step - loss: 0.5137 - val_loss: 0.4761\n",
      "Epoch 7/10\n",
      "363/363 [==============================] - 1s 3ms/step - loss: 0.5009 - val_loss: 0.4632\n",
      "Epoch 8/10\n",
      "363/363 [==============================] - 1s 4ms/step - loss: 0.4914 - val_loss: 0.4551\n",
      "Epoch 9/10\n",
      "363/363 [==============================] - 1s 3ms/step - loss: 0.4842 - val_loss: 0.4487\n",
      "Epoch 10/10\n",
      "363/363 [==============================] - 1s 4ms/step - loss: 0.4781 - val_loss: 0.4530\n",
      "162/162 [==============================] - 0s 2ms/step - loss: 0.5075\n"
     ]
    },
    {
     "data": {
      "text/plain": [
       "0.5075074434280396"
      ]
     },
     "execution_count": 33,
     "metadata": {},
     "output_type": "execute_result"
    }
   ],
   "source": [
    "model.fit(X_train, Y_train, epochs=10, validation_data=(X_valid, Y_valid))\n",
    "model.evaluate(X_test, Y_test)"
   ]
  },
  {
   "cell_type": "markdown",
   "id": "a1c79a76",
   "metadata": {},
   "source": [
    "### buidling model using KerasRegressor"
   ]
  },
  {
   "cell_type": "code",
   "execution_count": 34,
   "id": "3a4b33e3",
   "metadata": {},
   "outputs": [
    {
     "name": "stderr",
     "output_type": "stream",
     "text": [
      "/tmp/ipykernel_10329/1709004121.py:1: DeprecationWarning: KerasRegressor is deprecated, use Sci-Keras (https://github.com/adriangb/scikeras) instead. See https://www.adriangb.com/scikeras/stable/migration.html for help migrating.\n",
      "  keras_reg = keras.wrappers.scikit_learn.KerasRegressor(build_model)\n"
     ]
    }
   ],
   "source": [
    "keras_reg = keras.wrappers.scikit_learn.KerasRegressor(build_model)"
   ]
  },
  {
   "cell_type": "code",
   "execution_count": 35,
   "id": "87820ff5",
   "metadata": {},
   "outputs": [
    {
     "name": "stdout",
     "output_type": "stream",
     "text": [
      "Epoch 1/10\n",
      "363/363 [==============================] - 2s 4ms/step - loss: 1.0838 - val_loss: 0.7201\n",
      "Epoch 2/10\n",
      "363/363 [==============================] - 1s 3ms/step - loss: 0.6998 - val_loss: 0.6195\n",
      "Epoch 3/10\n",
      "363/363 [==============================] - 1s 3ms/step - loss: 0.6402 - val_loss: 0.5657\n",
      "Epoch 4/10\n",
      "363/363 [==============================] - 1s 3ms/step - loss: 0.5954 - val_loss: 0.5235\n",
      "Epoch 5/10\n",
      "363/363 [==============================] - 1s 3ms/step - loss: 0.5507 - val_loss: 0.5029\n",
      "Epoch 6/10\n",
      "363/363 [==============================] - 1s 3ms/step - loss: 0.5430 - val_loss: 0.4862\n",
      "Epoch 7/10\n",
      "363/363 [==============================] - 1s 3ms/step - loss: 0.5165 - val_loss: 0.4708\n",
      "Epoch 8/10\n",
      "363/363 [==============================] - 1s 3ms/step - loss: 0.5072 - val_loss: 0.4653\n",
      "Epoch 9/10\n",
      "363/363 [==============================] - 1s 3ms/step - loss: 0.4922 - val_loss: 0.4578\n",
      "Epoch 10/10\n",
      "363/363 [==============================] - 1s 4ms/step - loss: 0.4863 - val_loss: 0.4513\n"
     ]
    },
    {
     "data": {
      "text/plain": [
       "<keras.callbacks.History at 0x7f57206ab220>"
      ]
     },
     "execution_count": 35,
     "metadata": {},
     "output_type": "execute_result"
    }
   ],
   "source": [
    "keras_reg.fit(X_train, Y_train, epochs=10, validation_data=(X_valid, Y_valid))"
   ]
  },
  {
   "cell_type": "code",
   "execution_count": 36,
   "id": "cb043c84",
   "metadata": {},
   "outputs": [
    {
     "name": "stdout",
     "output_type": "stream",
     "text": [
      "162/162 [==============================] - 0s 2ms/step - loss: 0.5073\n"
     ]
    },
    {
     "data": {
      "text/plain": [
       "-0.5073366761207581"
      ]
     },
     "execution_count": 36,
     "metadata": {},
     "output_type": "execute_result"
    }
   ],
   "source": [
    "keras_reg.score(X_test, Y_test)"
   ]
  },
  {
   "cell_type": "markdown",
   "id": "c5211423",
   "metadata": {},
   "source": [
    "### Randomized Search CV"
   ]
  },
  {
   "cell_type": "code",
   "execution_count": 37,
   "id": "be3914ae",
   "metadata": {},
   "outputs": [],
   "source": [
    "from scipy.stats import reciprocal\n",
    "from sklearn.model_selection import RandomizedSearchCV\n",
    "import numpy as np"
   ]
  },
  {
   "cell_type": "code",
   "execution_count": 38,
   "id": "e52ddc3a",
   "metadata": {},
   "outputs": [
    {
     "data": {
      "text/plain": [
       "<scipy.stats._distn_infrastructure.rv_frozen at 0x7f570018a040>"
      ]
     },
     "execution_count": 38,
     "metadata": {},
     "output_type": "execute_result"
    }
   ],
   "source": [
    "reciprocal(2, 4)"
   ]
  },
  {
   "cell_type": "code",
   "execution_count": 40,
   "id": "0a5f4a39",
   "metadata": {},
   "outputs": [],
   "source": [
    "params_distrib = {\"n_hidden\": [0,1,2,3,4,5],\n",
    "                 \"n_neurons\": np.arange(1,100),\n",
    "                 \"lr_rate\": reciprocal(3e-4, 3e-3)}"
   ]
  },
  {
   "cell_type": "code",
   "execution_count": 41,
   "id": "f3a1148c",
   "metadata": {},
   "outputs": [
    {
     "name": "stdout",
     "output_type": "stream",
     "text": [
      "Epoch 1/10\n"
     ]
    },
    {
     "name": "stderr",
     "output_type": "stream",
     "text": [
      "/home/gpu/pyenv/py3.8env/lib/python3.8/site-packages/keras/optimizer_v2/gradient_descent.py:102: UserWarning: The `lr` argument is deprecated, use `learning_rate` instead.\n",
      "  super(SGD, self).__init__(name, **kwargs)\n"
     ]
    },
    {
     "name": "stdout",
     "output_type": "stream",
     "text": [
      "242/242 [==============================] - 1s 4ms/step - loss: 4.2303 - val_loss: 2.5828\n",
      "Epoch 2/10\n",
      "242/242 [==============================] - 1s 3ms/step - loss: 1.7201 - val_loss: 1.3826\n",
      "Epoch 3/10\n",
      "242/242 [==============================] - 1s 3ms/step - loss: 1.0285 - val_loss: 0.9854\n",
      "Epoch 4/10\n",
      "242/242 [==============================] - 1s 3ms/step - loss: 0.8020 - val_loss: 0.8377\n",
      "Epoch 5/10\n",
      "242/242 [==============================] - 1s 3ms/step - loss: 0.7194 - val_loss: 0.7723\n",
      "Epoch 6/10\n",
      "242/242 [==============================] - 1s 3ms/step - loss: 0.6845 - val_loss: 0.7366\n",
      "Epoch 7/10\n",
      "242/242 [==============================] - 1s 3ms/step - loss: 0.6659 - val_loss: 0.7117\n",
      "Epoch 8/10\n",
      "242/242 [==============================] - 1s 4ms/step - loss: 0.6529 - val_loss: 0.6916\n",
      "Epoch 9/10\n",
      "242/242 [==============================] - 1s 3ms/step - loss: 0.6426 - val_loss: 0.6745\n",
      "Epoch 10/10\n",
      "242/242 [==============================] - 1s 3ms/step - loss: 0.6338 - val_loss: 0.6589\n",
      "121/121 [==============================] - 0s 2ms/step - loss: 1.3675\n",
      "Epoch 1/10\n"
     ]
    },
    {
     "name": "stderr",
     "output_type": "stream",
     "text": [
      "/home/gpu/pyenv/py3.8env/lib/python3.8/site-packages/keras/optimizer_v2/gradient_descent.py:102: UserWarning: The `lr` argument is deprecated, use `learning_rate` instead.\n",
      "  super(SGD, self).__init__(name, **kwargs)\n"
     ]
    },
    {
     "name": "stdout",
     "output_type": "stream",
     "text": [
      "242/242 [==============================] - 1s 4ms/step - loss: 5.0080 - val_loss: 2.8134\n",
      "Epoch 2/10\n",
      "242/242 [==============================] - 1s 3ms/step - loss: 1.9439 - val_loss: 1.2843\n",
      "Epoch 3/10\n",
      "242/242 [==============================] - 1s 3ms/step - loss: 1.0338 - val_loss: 0.8021\n",
      "Epoch 4/10\n",
      "242/242 [==============================] - 1s 4ms/step - loss: 0.7456 - val_loss: 0.6417\n",
      "Epoch 5/10\n",
      "242/242 [==============================] - 1s 3ms/step - loss: 0.6504 - val_loss: 0.5861\n",
      "Epoch 6/10\n",
      "242/242 [==============================] - 1s 3ms/step - loss: 0.6158 - val_loss: 0.5628\n",
      "Epoch 7/10\n",
      "242/242 [==============================] - 1s 3ms/step - loss: 0.6009 - val_loss: 0.5519\n",
      "Epoch 8/10\n",
      "242/242 [==============================] - 1s 3ms/step - loss: 0.5930 - val_loss: 0.5448\n",
      "Epoch 9/10\n",
      "242/242 [==============================] - 1s 3ms/step - loss: 0.5872 - val_loss: 0.5395\n",
      "Epoch 10/10\n",
      "242/242 [==============================] - 1s 3ms/step - loss: 0.5825 - val_loss: 0.5351\n",
      "121/121 [==============================] - 0s 2ms/step - loss: 0.5603\n",
      "Epoch 1/10\n"
     ]
    },
    {
     "name": "stderr",
     "output_type": "stream",
     "text": [
      "/home/gpu/pyenv/py3.8env/lib/python3.8/site-packages/keras/optimizer_v2/gradient_descent.py:102: UserWarning: The `lr` argument is deprecated, use `learning_rate` instead.\n",
      "  super(SGD, self).__init__(name, **kwargs)\n"
     ]
    },
    {
     "name": "stdout",
     "output_type": "stream",
     "text": [
      "242/242 [==============================] - 1s 4ms/step - loss: 3.9104 - val_loss: 2.3891\n",
      "Epoch 2/10\n",
      "242/242 [==============================] - 1s 3ms/step - loss: 1.8399 - val_loss: 1.3356\n",
      "Epoch 3/10\n",
      "242/242 [==============================] - 1s 3ms/step - loss: 1.1749 - val_loss: 0.9705\n",
      "Epoch 4/10\n",
      "242/242 [==============================] - 1s 3ms/step - loss: 0.9366 - val_loss: 0.8311\n",
      "Epoch 5/10\n",
      "242/242 [==============================] - 1s 3ms/step - loss: 0.8400 - val_loss: 0.7709\n",
      "Epoch 6/10\n",
      "242/242 [==============================] - 1s 3ms/step - loss: 0.7923 - val_loss: 0.7353\n",
      "Epoch 7/10\n",
      "242/242 [==============================] - 1s 3ms/step - loss: 0.7638 - val_loss: 0.7141\n",
      "Epoch 8/10\n",
      "242/242 [==============================] - 1s 3ms/step - loss: 0.7424 - val_loss: 0.6954\n",
      "Epoch 9/10\n",
      "242/242 [==============================] - 1s 3ms/step - loss: 0.7240 - val_loss: 0.6786\n",
      "Epoch 10/10\n",
      "242/242 [==============================] - 1s 3ms/step - loss: 0.7083 - val_loss: 0.6641\n",
      "121/121 [==============================] - 0s 2ms/step - loss: 0.7068\n",
      "Epoch 1/10\n"
     ]
    },
    {
     "name": "stderr",
     "output_type": "stream",
     "text": [
      "/home/gpu/pyenv/py3.8env/lib/python3.8/site-packages/keras/optimizer_v2/gradient_descent.py:102: UserWarning: The `lr` argument is deprecated, use `learning_rate` instead.\n",
      "  super(SGD, self).__init__(name, **kwargs)\n"
     ]
    },
    {
     "name": "stdout",
     "output_type": "stream",
     "text": [
      "242/242 [==============================] - 2s 5ms/step - loss: 1.6471 - val_loss: 0.7608\n",
      "Epoch 2/10\n",
      "242/242 [==============================] - 1s 4ms/step - loss: 0.6635 - val_loss: 0.6014\n",
      "Epoch 3/10\n",
      "242/242 [==============================] - 1s 4ms/step - loss: 0.5728 - val_loss: 0.5270\n",
      "Epoch 4/10\n",
      "242/242 [==============================] - 1s 4ms/step - loss: 0.5363 - val_loss: 0.4909\n",
      "Epoch 5/10\n",
      "242/242 [==============================] - 1s 4ms/step - loss: 0.5095 - val_loss: 0.4688\n",
      "Epoch 6/10\n",
      "242/242 [==============================] - 1s 4ms/step - loss: 0.4983 - val_loss: 0.4585\n",
      "Epoch 7/10\n",
      "242/242 [==============================] - 1s 4ms/step - loss: 0.4850 - val_loss: 0.4528\n",
      "Epoch 8/10\n",
      "242/242 [==============================] - 1s 4ms/step - loss: 0.4994 - val_loss: 0.4418\n",
      "Epoch 9/10\n",
      "242/242 [==============================] - 1s 4ms/step - loss: 0.4736 - val_loss: 0.4358\n",
      "Epoch 10/10\n",
      "242/242 [==============================] - 1s 4ms/step - loss: 0.4639 - val_loss: 0.4411\n",
      "121/121 [==============================] - 0s 2ms/step - loss: 0.4895\n",
      "Epoch 1/10\n"
     ]
    },
    {
     "name": "stderr",
     "output_type": "stream",
     "text": [
      "/home/gpu/pyenv/py3.8env/lib/python3.8/site-packages/keras/optimizer_v2/gradient_descent.py:102: UserWarning: The `lr` argument is deprecated, use `learning_rate` instead.\n",
      "  super(SGD, self).__init__(name, **kwargs)\n"
     ]
    },
    {
     "name": "stdout",
     "output_type": "stream",
     "text": [
      "242/242 [==============================] - 1s 4ms/step - loss: 2.3314 - val_loss: 0.7673\n",
      "Epoch 2/10\n",
      "242/242 [==============================] - 1s 4ms/step - loss: 0.7194 - val_loss: 0.5848\n",
      "Epoch 3/10\n",
      "242/242 [==============================] - 1s 4ms/step - loss: 0.6013 - val_loss: 0.5411\n",
      "Epoch 4/10\n",
      "242/242 [==============================] - 1s 4ms/step - loss: 0.5665 - val_loss: 0.5112\n",
      "Epoch 5/10\n",
      "242/242 [==============================] - 1s 4ms/step - loss: 0.5404 - val_loss: 0.4903\n",
      "Epoch 6/10\n",
      "242/242 [==============================] - 1s 4ms/step - loss: 0.5186 - val_loss: 0.4710\n",
      "Epoch 7/10\n",
      "242/242 [==============================] - 1s 4ms/step - loss: 0.5000 - val_loss: 0.4547\n",
      "Epoch 8/10\n",
      "242/242 [==============================] - 1s 4ms/step - loss: 0.4844 - val_loss: 0.4431\n",
      "Epoch 9/10\n",
      "242/242 [==============================] - 1s 4ms/step - loss: 0.4722 - val_loss: 0.4314\n",
      "Epoch 10/10\n",
      "242/242 [==============================] - 1s 4ms/step - loss: 0.4618 - val_loss: 0.4246\n",
      "121/121 [==============================] - 0s 2ms/step - loss: 0.4525\n",
      "Epoch 1/10\n"
     ]
    },
    {
     "name": "stderr",
     "output_type": "stream",
     "text": [
      "/home/gpu/pyenv/py3.8env/lib/python3.8/site-packages/keras/optimizer_v2/gradient_descent.py:102: UserWarning: The `lr` argument is deprecated, use `learning_rate` instead.\n",
      "  super(SGD, self).__init__(name, **kwargs)\n"
     ]
    },
    {
     "name": "stdout",
     "output_type": "stream",
     "text": [
      "242/242 [==============================] - 1s 4ms/step - loss: 1.3399 - val_loss: 0.7747\n",
      "Epoch 2/10\n",
      "242/242 [==============================] - 1s 4ms/step - loss: 0.7515 - val_loss: 0.6482\n",
      "Epoch 3/10\n",
      "242/242 [==============================] - 1s 4ms/step - loss: 0.6519 - val_loss: 0.5870\n",
      "Epoch 4/10\n",
      "242/242 [==============================] - 1s 4ms/step - loss: 0.5978 - val_loss: 0.5429\n",
      "Epoch 5/10\n",
      "242/242 [==============================] - 1s 4ms/step - loss: 0.5600 - val_loss: 0.5142\n",
      "Epoch 6/10\n",
      "242/242 [==============================] - 1s 4ms/step - loss: 0.5343 - val_loss: 0.4873\n",
      "Epoch 7/10\n",
      "242/242 [==============================] - 1s 4ms/step - loss: 0.5131 - val_loss: 0.4671\n",
      "Epoch 8/10\n",
      "242/242 [==============================] - 1s 4ms/step - loss: 0.4984 - val_loss: 0.4605\n",
      "Epoch 9/10\n",
      "242/242 [==============================] - 1s 4ms/step - loss: 0.4854 - val_loss: 0.4456\n",
      "Epoch 10/10\n",
      "242/242 [==============================] - 1s 4ms/step - loss: 0.4771 - val_loss: 0.4364\n",
      "121/121 [==============================] - 0s 2ms/step - loss: 0.4685\n",
      "Epoch 1/10\n"
     ]
    },
    {
     "name": "stderr",
     "output_type": "stream",
     "text": [
      "/home/gpu/pyenv/py3.8env/lib/python3.8/site-packages/keras/optimizer_v2/gradient_descent.py:102: UserWarning: The `lr` argument is deprecated, use `learning_rate` instead.\n",
      "  super(SGD, self).__init__(name, **kwargs)\n"
     ]
    },
    {
     "name": "stdout",
     "output_type": "stream",
     "text": [
      "242/242 [==============================] - 1s 4ms/step - loss: 2.9816 - val_loss: 1.8615\n",
      "Epoch 2/10\n",
      "242/242 [==============================] - 1s 4ms/step - loss: 1.3960 - val_loss: 1.1238\n",
      "Epoch 3/10\n",
      "242/242 [==============================] - 1s 4ms/step - loss: 0.9827 - val_loss: 0.8830\n",
      "Epoch 4/10\n",
      "242/242 [==============================] - 1s 4ms/step - loss: 0.8320 - val_loss: 0.7792\n",
      "Epoch 5/10\n",
      "242/242 [==============================] - 1s 4ms/step - loss: 0.7634 - val_loss: 0.7254\n",
      "Epoch 6/10\n",
      "242/242 [==============================] - 1s 4ms/step - loss: 0.7265 - val_loss: 0.6936\n",
      "Epoch 7/10\n",
      "242/242 [==============================] - 1s 4ms/step - loss: 0.7035 - val_loss: 0.6722\n",
      "Epoch 8/10\n",
      "242/242 [==============================] - 1s 4ms/step - loss: 0.6868 - val_loss: 0.6562\n",
      "Epoch 9/10\n",
      "242/242 [==============================] - 1s 4ms/step - loss: 0.6733 - val_loss: 0.6422\n",
      "Epoch 10/10\n",
      "242/242 [==============================] - 1s 4ms/step - loss: 0.6612 - val_loss: 0.6298\n",
      "121/121 [==============================] - 0s 2ms/step - loss: 0.6860\n",
      "Epoch 1/10\n"
     ]
    },
    {
     "name": "stderr",
     "output_type": "stream",
     "text": [
      "/home/gpu/pyenv/py3.8env/lib/python3.8/site-packages/keras/optimizer_v2/gradient_descent.py:102: UserWarning: The `lr` argument is deprecated, use `learning_rate` instead.\n",
      "  super(SGD, self).__init__(name, **kwargs)\n"
     ]
    },
    {
     "name": "stdout",
     "output_type": "stream",
     "text": [
      "242/242 [==============================] - 2s 4ms/step - loss: 3.0939 - val_loss: 1.7770\n",
      "Epoch 2/10\n",
      "242/242 [==============================] - 1s 4ms/step - loss: 1.4591 - val_loss: 1.0879\n",
      "Epoch 3/10\n",
      "242/242 [==============================] - 1s 4ms/step - loss: 1.0226 - val_loss: 0.8949\n",
      "Epoch 4/10\n",
      "242/242 [==============================] - 1s 4ms/step - loss: 0.8771 - val_loss: 0.8104\n",
      "Epoch 5/10\n",
      "242/242 [==============================] - 1s 4ms/step - loss: 0.8128 - val_loss: 0.7635\n",
      "Epoch 6/10\n",
      "242/242 [==============================] - 1s 4ms/step - loss: 0.7759 - val_loss: 0.7326\n",
      "Epoch 7/10\n",
      "242/242 [==============================] - 1s 4ms/step - loss: 0.7504 - val_loss: 0.7096\n",
      "Epoch 8/10\n",
      "242/242 [==============================] - 1s 4ms/step - loss: 0.7306 - val_loss: 0.6902\n",
      "Epoch 9/10\n",
      "242/242 [==============================] - 1s 4ms/step - loss: 0.7138 - val_loss: 0.6737\n",
      "Epoch 10/10\n",
      "242/242 [==============================] - 1s 4ms/step - loss: 0.6989 - val_loss: 0.6589\n",
      "121/121 [==============================] - 0s 2ms/step - loss: 0.6626\n",
      "Epoch 1/10\n"
     ]
    },
    {
     "name": "stderr",
     "output_type": "stream",
     "text": [
      "/home/gpu/pyenv/py3.8env/lib/python3.8/site-packages/keras/optimizer_v2/gradient_descent.py:102: UserWarning: The `lr` argument is deprecated, use `learning_rate` instead.\n",
      "  super(SGD, self).__init__(name, **kwargs)\n"
     ]
    },
    {
     "name": "stdout",
     "output_type": "stream",
     "text": [
      "242/242 [==============================] - 1s 4ms/step - loss: 3.3952 - val_loss: 1.9077\n",
      "Epoch 2/10\n",
      "242/242 [==============================] - 1s 4ms/step - loss: 1.5175 - val_loss: 1.0420\n",
      "Epoch 3/10\n",
      "242/242 [==============================] - 1s 4ms/step - loss: 0.9661 - val_loss: 0.7856\n",
      "Epoch 4/10\n",
      "242/242 [==============================] - 1s 4ms/step - loss: 0.7842 - val_loss: 0.6971\n",
      "Epoch 5/10\n",
      "242/242 [==============================] - 1s 4ms/step - loss: 0.7179 - val_loss: 0.6631\n",
      "Epoch 6/10\n",
      "242/242 [==============================] - 1s 4ms/step - loss: 0.6890 - val_loss: 0.6444\n",
      "Epoch 7/10\n",
      "242/242 [==============================] - 1s 4ms/step - loss: 0.6717 - val_loss: 0.6306\n",
      "Epoch 8/10\n",
      "242/242 [==============================] - 1s 4ms/step - loss: 0.6586 - val_loss: 0.6190\n",
      "Epoch 9/10\n",
      "242/242 [==============================] - 1s 4ms/step - loss: 0.6475 - val_loss: 0.6093\n",
      "Epoch 10/10\n",
      "242/242 [==============================] - 1s 4ms/step - loss: 0.6372 - val_loss: 0.5987\n",
      "121/121 [==============================] - 0s 2ms/step - loss: 0.6409\n",
      "Epoch 1/10\n"
     ]
    },
    {
     "name": "stderr",
     "output_type": "stream",
     "text": [
      "/home/gpu/pyenv/py3.8env/lib/python3.8/site-packages/keras/optimizer_v2/gradient_descent.py:102: UserWarning: The `lr` argument is deprecated, use `learning_rate` instead.\n",
      "  super(SGD, self).__init__(name, **kwargs)\n"
     ]
    },
    {
     "name": "stdout",
     "output_type": "stream",
     "text": [
      "242/242 [==============================] - 1s 4ms/step - loss: 5.4604 - val_loss: 4.1917\n",
      "Epoch 2/10\n",
      "242/242 [==============================] - 1s 3ms/step - loss: 3.1328 - val_loss: 2.5326\n",
      "Epoch 3/10\n",
      "242/242 [==============================] - 1s 3ms/step - loss: 1.9581 - val_loss: 1.6827\n",
      "Epoch 4/10\n",
      "242/242 [==============================] - 1s 3ms/step - loss: 1.3603 - val_loss: 1.2409\n",
      "Epoch 5/10\n",
      "242/242 [==============================] - 1s 3ms/step - loss: 1.0522 - val_loss: 1.0064\n",
      "Epoch 6/10\n",
      "242/242 [==============================] - 1s 3ms/step - loss: 0.8907 - val_loss: 0.8781\n",
      "Epoch 7/10\n",
      "242/242 [==============================] - 1s 3ms/step - loss: 0.8037 - val_loss: 0.8048\n",
      "Epoch 8/10\n",
      "242/242 [==============================] - 1s 3ms/step - loss: 0.7549 - val_loss: 0.7605\n",
      "Epoch 9/10\n",
      "242/242 [==============================] - 1s 3ms/step - loss: 0.7256 - val_loss: 0.7314\n",
      "Epoch 10/10\n",
      "242/242 [==============================] - 1s 3ms/step - loss: 0.7069 - val_loss: 0.7109\n",
      "121/121 [==============================] - 0s 2ms/step - loss: 1.2567\n",
      "Epoch 1/10\n"
     ]
    },
    {
     "name": "stderr",
     "output_type": "stream",
     "text": [
      "/home/gpu/pyenv/py3.8env/lib/python3.8/site-packages/keras/optimizer_v2/gradient_descent.py:102: UserWarning: The `lr` argument is deprecated, use `learning_rate` instead.\n",
      "  super(SGD, self).__init__(name, **kwargs)\n"
     ]
    },
    {
     "name": "stdout",
     "output_type": "stream",
     "text": [
      "242/242 [==============================] - 1s 4ms/step - loss: 4.2657 - val_loss: 3.0543\n",
      "Epoch 2/10\n",
      "242/242 [==============================] - 1s 4ms/step - loss: 2.4662 - val_loss: 1.8861\n",
      "Epoch 3/10\n",
      "242/242 [==============================] - 1s 3ms/step - loss: 1.6062 - val_loss: 1.3029\n",
      "Epoch 4/10\n",
      "242/242 [==============================] - 1s 3ms/step - loss: 1.1809 - val_loss: 1.0055\n",
      "Epoch 5/10\n",
      "242/242 [==============================] - 1s 3ms/step - loss: 0.9655 - val_loss: 0.8501\n",
      "Epoch 6/10\n",
      "242/242 [==============================] - 1s 3ms/step - loss: 0.8531 - val_loss: 0.7668\n",
      "Epoch 7/10\n",
      "242/242 [==============================] - 1s 3ms/step - loss: 0.7920 - val_loss: 0.7198\n",
      "Epoch 8/10\n",
      "242/242 [==============================] - 1s 3ms/step - loss: 0.7565 - val_loss: 0.6910\n",
      "Epoch 9/10\n",
      "242/242 [==============================] - 1s 3ms/step - loss: 0.7341 - val_loss: 0.6723\n",
      "Epoch 10/10\n",
      "242/242 [==============================] - 1s 3ms/step - loss: 0.7186 - val_loss: 0.6588\n",
      "121/121 [==============================] - 0s 2ms/step - loss: 0.6817\n",
      "Epoch 1/10\n"
     ]
    },
    {
     "name": "stderr",
     "output_type": "stream",
     "text": [
      "/home/gpu/pyenv/py3.8env/lib/python3.8/site-packages/keras/optimizer_v2/gradient_descent.py:102: UserWarning: The `lr` argument is deprecated, use `learning_rate` instead.\n",
      "  super(SGD, self).__init__(name, **kwargs)\n"
     ]
    },
    {
     "name": "stdout",
     "output_type": "stream",
     "text": [
      "242/242 [==============================] - 1s 3ms/step - loss: 4.7232 - val_loss: 3.0179\n",
      "Epoch 2/10\n",
      "242/242 [==============================] - 1s 3ms/step - loss: 2.4550 - val_loss: 1.7451\n",
      "Epoch 3/10\n",
      "242/242 [==============================] - 1s 3ms/step - loss: 1.4770 - val_loss: 1.1340\n",
      "Epoch 4/10\n",
      "242/242 [==============================] - 1s 3ms/step - loss: 1.0188 - val_loss: 0.8320\n",
      "Epoch 5/10\n",
      "242/242 [==============================] - 1s 3ms/step - loss: 0.7942 - val_loss: 0.6808\n",
      "Epoch 6/10\n",
      "242/242 [==============================] - 1s 3ms/step - loss: 0.6823 - val_loss: 0.6048\n",
      "Epoch 7/10\n",
      "242/242 [==============================] - 1s 3ms/step - loss: 0.6258 - val_loss: 0.5658\n",
      "Epoch 8/10\n",
      "242/242 [==============================] - 1s 3ms/step - loss: 0.5965 - val_loss: 0.5452\n",
      "Epoch 9/10\n",
      "242/242 [==============================] - 1s 3ms/step - loss: 0.5810 - val_loss: 0.5344\n",
      "Epoch 10/10\n",
      "242/242 [==============================] - 1s 3ms/step - loss: 0.5725 - val_loss: 0.5280\n",
      "121/121 [==============================] - 0s 2ms/step - loss: 0.5625\n",
      "Epoch 1/10\n"
     ]
    },
    {
     "name": "stderr",
     "output_type": "stream",
     "text": [
      "/home/gpu/pyenv/py3.8env/lib/python3.8/site-packages/keras/optimizer_v2/gradient_descent.py:102: UserWarning: The `lr` argument is deprecated, use `learning_rate` instead.\n",
      "  super(SGD, self).__init__(name, **kwargs)\n"
     ]
    },
    {
     "name": "stdout",
     "output_type": "stream",
     "text": [
      "242/242 [==============================] - 2s 5ms/step - loss: 1.5798 - val_loss: 0.8266\n",
      "Epoch 2/10\n",
      "242/242 [==============================] - 1s 4ms/step - loss: 0.6756 - val_loss: 0.5992\n",
      "Epoch 3/10\n",
      "242/242 [==============================] - 1s 5ms/step - loss: 0.5870 - val_loss: 0.5340\n",
      "Epoch 4/10\n",
      "242/242 [==============================] - 1s 4ms/step - loss: 0.5452 - val_loss: 0.5043\n",
      "Epoch 5/10\n",
      "242/242 [==============================] - 1s 5ms/step - loss: 0.5188 - val_loss: 0.4867\n",
      "Epoch 6/10\n",
      "242/242 [==============================] - 1s 5ms/step - loss: 0.4961 - val_loss: 0.4685\n",
      "Epoch 7/10\n",
      "242/242 [==============================] - 1s 4ms/step - loss: 0.4835 - val_loss: 0.4605\n",
      "Epoch 8/10\n",
      "242/242 [==============================] - 1s 4ms/step - loss: 0.4689 - val_loss: 0.4547\n",
      "Epoch 9/10\n",
      "242/242 [==============================] - 1s 4ms/step - loss: 0.4601 - val_loss: 0.4457\n",
      "Epoch 10/10\n",
      "242/242 [==============================] - 1s 4ms/step - loss: 0.4490 - val_loss: 0.4333\n",
      "121/121 [==============================] - 0s 2ms/step - loss: 0.4920\n",
      "Epoch 1/10\n"
     ]
    },
    {
     "name": "stderr",
     "output_type": "stream",
     "text": [
      "/home/gpu/pyenv/py3.8env/lib/python3.8/site-packages/keras/optimizer_v2/gradient_descent.py:102: UserWarning: The `lr` argument is deprecated, use `learning_rate` instead.\n",
      "  super(SGD, self).__init__(name, **kwargs)\n"
     ]
    },
    {
     "name": "stdout",
     "output_type": "stream",
     "text": [
      "242/242 [==============================] - 2s 5ms/step - loss: 1.8903 - val_loss: 0.7738\n",
      "Epoch 2/10\n",
      "242/242 [==============================] - 1s 4ms/step - loss: 0.6780 - val_loss: 0.5788\n",
      "Epoch 3/10\n",
      "242/242 [==============================] - 1s 5ms/step - loss: 0.5938 - val_loss: 0.5363\n",
      "Epoch 4/10\n",
      "242/242 [==============================] - 1s 5ms/step - loss: 0.5595 - val_loss: 0.5089\n",
      "Epoch 5/10\n",
      "242/242 [==============================] - 1s 4ms/step - loss: 0.5340 - val_loss: 0.4858\n",
      "Epoch 6/10\n",
      "242/242 [==============================] - 1s 5ms/step - loss: 0.5123 - val_loss: 0.4680\n",
      "Epoch 7/10\n",
      "242/242 [==============================] - 1s 5ms/step - loss: 0.4944 - val_loss: 0.4545\n",
      "Epoch 8/10\n",
      "242/242 [==============================] - 1s 5ms/step - loss: 0.4801 - val_loss: 0.4438\n",
      "Epoch 9/10\n",
      "242/242 [==============================] - 1s 4ms/step - loss: 0.4680 - val_loss: 0.4390\n",
      "Epoch 10/10\n",
      "242/242 [==============================] - 1s 5ms/step - loss: 0.4592 - val_loss: 0.4291\n",
      "121/121 [==============================] - 0s 2ms/step - loss: 0.4530\n",
      "Epoch 1/10\n"
     ]
    },
    {
     "name": "stderr",
     "output_type": "stream",
     "text": [
      "/home/gpu/pyenv/py3.8env/lib/python3.8/site-packages/keras/optimizer_v2/gradient_descent.py:102: UserWarning: The `lr` argument is deprecated, use `learning_rate` instead.\n",
      "  super(SGD, self).__init__(name, **kwargs)\n"
     ]
    },
    {
     "name": "stdout",
     "output_type": "stream",
     "text": [
      "242/242 [==============================] - 2s 5ms/step - loss: 1.6457 - val_loss: 0.7884\n",
      "Epoch 2/10\n",
      "242/242 [==============================] - 1s 5ms/step - loss: 0.7544 - val_loss: 0.6563\n",
      "Epoch 3/10\n",
      "242/242 [==============================] - 1s 5ms/step - loss: 0.6601 - val_loss: 0.5994\n",
      "Epoch 4/10\n",
      "242/242 [==============================] - 1s 5ms/step - loss: 0.6085 - val_loss: 0.5579\n",
      "Epoch 5/10\n",
      "242/242 [==============================] - 1s 5ms/step - loss: 0.5765 - val_loss: 0.5296\n",
      "Epoch 6/10\n",
      "242/242 [==============================] - 1s 5ms/step - loss: 0.5474 - val_loss: 0.5064\n",
      "Epoch 7/10\n",
      "242/242 [==============================] - 1s 5ms/step - loss: 0.5248 - val_loss: 0.4864\n",
      "Epoch 8/10\n",
      "242/242 [==============================] - 1s 5ms/step - loss: 0.5068 - val_loss: 0.4739\n",
      "Epoch 9/10\n",
      "242/242 [==============================] - 1s 5ms/step - loss: 0.4935 - val_loss: 0.4601\n",
      "Epoch 10/10\n",
      "242/242 [==============================] - 1s 5ms/step - loss: 0.4809 - val_loss: 0.4511\n",
      "121/121 [==============================] - 0s 2ms/step - loss: 0.4707\n",
      "Epoch 1/10\n"
     ]
    },
    {
     "name": "stderr",
     "output_type": "stream",
     "text": [
      "/home/gpu/pyenv/py3.8env/lib/python3.8/site-packages/keras/optimizer_v2/gradient_descent.py:102: UserWarning: The `lr` argument is deprecated, use `learning_rate` instead.\n",
      "  super(SGD, self).__init__(name, **kwargs)\n"
     ]
    },
    {
     "name": "stdout",
     "output_type": "stream",
     "text": [
      "242/242 [==============================] - 2s 6ms/step - loss: 2.7296 - val_loss: 1.5180\n",
      "Epoch 2/10\n",
      "242/242 [==============================] - 1s 5ms/step - loss: 1.2466 - val_loss: 1.1030\n",
      "Epoch 3/10\n",
      "242/242 [==============================] - 1s 5ms/step - loss: 1.0213 - val_loss: 0.9818\n",
      "Epoch 4/10\n",
      "242/242 [==============================] - 1s 5ms/step - loss: 0.9300 - val_loss: 0.9177\n",
      "Epoch 5/10\n",
      "242/242 [==============================] - 1s 5ms/step - loss: 0.8767 - val_loss: 0.8747\n",
      "Epoch 6/10\n",
      "242/242 [==============================] - 1s 5ms/step - loss: 0.8409 - val_loss: 0.8426\n",
      "Epoch 7/10\n",
      "242/242 [==============================] - 1s 5ms/step - loss: 0.8141 - val_loss: 0.8164\n",
      "Epoch 8/10\n",
      "242/242 [==============================] - 1s 5ms/step - loss: 0.7918 - val_loss: 0.7897\n",
      "Epoch 9/10\n",
      "242/242 [==============================] - 1s 5ms/step - loss: 0.7729 - val_loss: 0.7702\n",
      "Epoch 10/10\n",
      "242/242 [==============================] - 1s 5ms/step - loss: 0.7565 - val_loss: 0.7559\n",
      "121/121 [==============================] - 0s 2ms/step - loss: 1.2656\n",
      "Epoch 1/10\n"
     ]
    },
    {
     "name": "stderr",
     "output_type": "stream",
     "text": [
      "/home/gpu/pyenv/py3.8env/lib/python3.8/site-packages/keras/optimizer_v2/gradient_descent.py:102: UserWarning: The `lr` argument is deprecated, use `learning_rate` instead.\n",
      "  super(SGD, self).__init__(name, **kwargs)\n"
     ]
    },
    {
     "name": "stdout",
     "output_type": "stream",
     "text": [
      "242/242 [==============================] - 2s 5ms/step - loss: 4.0795 - val_loss: 2.7310\n",
      "Epoch 2/10\n",
      "242/242 [==============================] - 1s 5ms/step - loss: 2.1613 - val_loss: 1.6741\n",
      "Epoch 3/10\n",
      "242/242 [==============================] - 1s 5ms/step - loss: 1.5390 - val_loss: 1.3635\n",
      "Epoch 4/10\n",
      "242/242 [==============================] - 1s 5ms/step - loss: 1.3717 - val_loss: 1.2900\n",
      "Epoch 5/10\n",
      "242/242 [==============================] - 1s 5ms/step - loss: 1.3332 - val_loss: 1.2721\n",
      "Epoch 6/10\n",
      "242/242 [==============================] - 1s 5ms/step - loss: 1.3210 - val_loss: 1.2629\n",
      "Epoch 7/10\n",
      "242/242 [==============================] - 1s 5ms/step - loss: 1.3116 - val_loss: 1.2529\n",
      "Epoch 8/10\n",
      "242/242 [==============================] - 1s 5ms/step - loss: 1.2999 - val_loss: 1.2394\n",
      "Epoch 9/10\n",
      "242/242 [==============================] - 1s 5ms/step - loss: 1.2834 - val_loss: 1.2201\n",
      "Epoch 10/10\n",
      "242/242 [==============================] - 1s 5ms/step - loss: 1.2591 - val_loss: 1.1909\n",
      "121/121 [==============================] - 0s 2ms/step - loss: 1.1993\n",
      "Epoch 1/10\n"
     ]
    },
    {
     "name": "stderr",
     "output_type": "stream",
     "text": [
      "/home/gpu/pyenv/py3.8env/lib/python3.8/site-packages/keras/optimizer_v2/gradient_descent.py:102: UserWarning: The `lr` argument is deprecated, use `learning_rate` instead.\n",
      "  super(SGD, self).__init__(name, **kwargs)\n"
     ]
    },
    {
     "name": "stdout",
     "output_type": "stream",
     "text": [
      "242/242 [==============================] - 2s 5ms/step - loss: 2.8834 - val_loss: 1.5210\n",
      "Epoch 2/10\n",
      "242/242 [==============================] - 1s 5ms/step - loss: 1.3591 - val_loss: 1.2724\n",
      "Epoch 3/10\n",
      "242/242 [==============================] - 1s 5ms/step - loss: 1.2829 - val_loss: 1.2222\n",
      "Epoch 4/10\n",
      "242/242 [==============================] - 1s 5ms/step - loss: 1.2266 - val_loss: 1.1442\n",
      "Epoch 5/10\n",
      "242/242 [==============================] - 1s 5ms/step - loss: 1.1336 - val_loss: 1.0217\n",
      "Epoch 6/10\n",
      "242/242 [==============================] - 1s 5ms/step - loss: 0.9937 - val_loss: 0.8740\n",
      "Epoch 7/10\n",
      "242/242 [==============================] - 1s 5ms/step - loss: 0.8362 - val_loss: 0.7193\n",
      "Epoch 8/10\n",
      "242/242 [==============================] - 1s 5ms/step - loss: 0.7134 - val_loss: 0.6276\n",
      "Epoch 9/10\n",
      "242/242 [==============================] - 1s 5ms/step - loss: 0.6389 - val_loss: 0.5902\n",
      "Epoch 10/10\n",
      "242/242 [==============================] - 1s 5ms/step - loss: 0.6105 - val_loss: 0.5695\n",
      "121/121 [==============================] - 0s 2ms/step - loss: 0.6029\n",
      "Epoch 1/10\n"
     ]
    },
    {
     "name": "stderr",
     "output_type": "stream",
     "text": [
      "/home/gpu/pyenv/py3.8env/lib/python3.8/site-packages/keras/optimizer_v2/gradient_descent.py:102: UserWarning: The `lr` argument is deprecated, use `learning_rate` instead.\n",
      "  super(SGD, self).__init__(name, **kwargs)\n"
     ]
    },
    {
     "name": "stdout",
     "output_type": "stream",
     "text": [
      "242/242 [==============================] - 2s 5ms/step - loss: 3.8502 - val_loss: 2.5077\n",
      "Epoch 2/10\n",
      "242/242 [==============================] - 1s 4ms/step - loss: 1.6644 - val_loss: 1.1886\n",
      "Epoch 3/10\n",
      "242/242 [==============================] - 1s 4ms/step - loss: 1.0338 - val_loss: 0.8970\n",
      "Epoch 4/10\n",
      "242/242 [==============================] - 1s 4ms/step - loss: 0.8620 - val_loss: 0.7861\n",
      "Epoch 5/10\n",
      "242/242 [==============================] - 1s 5ms/step - loss: 0.7848 - val_loss: 0.7327\n",
      "Epoch 6/10\n",
      "242/242 [==============================] - 1s 4ms/step - loss: 0.7450 - val_loss: 0.7042\n",
      "Epoch 7/10\n",
      "242/242 [==============================] - 1s 4ms/step - loss: 0.7196 - val_loss: 0.6822\n",
      "Epoch 8/10\n",
      "242/242 [==============================] - 1s 4ms/step - loss: 0.7000 - val_loss: 0.6667\n",
      "Epoch 9/10\n",
      "242/242 [==============================] - 1s 4ms/step - loss: 0.6843 - val_loss: 0.6513\n",
      "Epoch 10/10\n",
      "242/242 [==============================] - 1s 4ms/step - loss: 0.6705 - val_loss: 0.6378\n",
      "121/121 [==============================] - 0s 2ms/step - loss: 0.7058\n",
      "Epoch 1/10\n"
     ]
    },
    {
     "name": "stderr",
     "output_type": "stream",
     "text": [
      "/home/gpu/pyenv/py3.8env/lib/python3.8/site-packages/keras/optimizer_v2/gradient_descent.py:102: UserWarning: The `lr` argument is deprecated, use `learning_rate` instead.\n",
      "  super(SGD, self).__init__(name, **kwargs)\n"
     ]
    },
    {
     "name": "stdout",
     "output_type": "stream",
     "text": [
      "242/242 [==============================] - 2s 5ms/step - loss: 2.3533 - val_loss: 1.0904\n",
      "Epoch 2/10\n",
      "242/242 [==============================] - 1s 4ms/step - loss: 1.0350 - val_loss: 0.8512\n",
      "Epoch 3/10\n",
      "242/242 [==============================] - 1s 4ms/step - loss: 0.8739 - val_loss: 0.7679\n",
      "Epoch 4/10\n",
      "242/242 [==============================] - 1s 4ms/step - loss: 0.8026 - val_loss: 0.7223\n",
      "Epoch 5/10\n",
      "242/242 [==============================] - 1s 4ms/step - loss: 0.7629 - val_loss: 0.6916\n",
      "Epoch 6/10\n",
      "242/242 [==============================] - 1s 4ms/step - loss: 0.7358 - val_loss: 0.6703\n",
      "Epoch 7/10\n",
      "242/242 [==============================] - 1s 4ms/step - loss: 0.7149 - val_loss: 0.6523\n",
      "Epoch 8/10\n",
      "242/242 [==============================] - 1s 5ms/step - loss: 0.6971 - val_loss: 0.6367\n",
      "Epoch 9/10\n",
      "242/242 [==============================] - 1s 4ms/step - loss: 0.6814 - val_loss: 0.6234\n",
      "Epoch 10/10\n",
      "242/242 [==============================] - 1s 5ms/step - loss: 0.6677 - val_loss: 0.6119\n",
      "121/121 [==============================] - 0s 2ms/step - loss: 0.6323\n",
      "Epoch 1/10\n"
     ]
    },
    {
     "name": "stderr",
     "output_type": "stream",
     "text": [
      "/home/gpu/pyenv/py3.8env/lib/python3.8/site-packages/keras/optimizer_v2/gradient_descent.py:102: UserWarning: The `lr` argument is deprecated, use `learning_rate` instead.\n",
      "  super(SGD, self).__init__(name, **kwargs)\n"
     ]
    },
    {
     "name": "stdout",
     "output_type": "stream",
     "text": [
      "242/242 [==============================] - 3s 9ms/step - loss: 3.8376 - val_loss: 2.0328\n",
      "Epoch 2/10\n",
      "242/242 [==============================] - 1s 5ms/step - loss: 1.5112 - val_loss: 1.1254\n",
      "Epoch 3/10\n",
      "242/242 [==============================] - 1s 5ms/step - loss: 1.0465 - val_loss: 0.9122\n",
      "Epoch 4/10\n",
      "242/242 [==============================] - 1s 5ms/step - loss: 0.8824 - val_loss: 0.8182\n",
      "Epoch 5/10\n",
      "242/242 [==============================] - 1s 5ms/step - loss: 0.8089 - val_loss: 0.7608\n",
      "Epoch 6/10\n",
      "242/242 [==============================] - 1s 4ms/step - loss: 0.7635 - val_loss: 0.7208\n",
      "Epoch 7/10\n",
      "242/242 [==============================] - 1s 5ms/step - loss: 0.7316 - val_loss: 0.6915\n",
      "Epoch 8/10\n",
      "242/242 [==============================] - 1s 5ms/step - loss: 0.7077 - val_loss: 0.6684\n",
      "Epoch 9/10\n",
      "242/242 [==============================] - 1s 5ms/step - loss: 0.6894 - val_loss: 0.6495\n",
      "Epoch 10/10\n",
      "242/242 [==============================] - 1s 5ms/step - loss: 0.6744 - val_loss: 0.6345\n",
      "121/121 [==============================] - 0s 2ms/step - loss: 0.6924\n",
      "Epoch 1/10\n"
     ]
    },
    {
     "name": "stderr",
     "output_type": "stream",
     "text": [
      "/home/gpu/pyenv/py3.8env/lib/python3.8/site-packages/keras/optimizer_v2/gradient_descent.py:102: UserWarning: The `lr` argument is deprecated, use `learning_rate` instead.\n",
      "  super(SGD, self).__init__(name, **kwargs)\n"
     ]
    },
    {
     "name": "stdout",
     "output_type": "stream",
     "text": [
      "242/242 [==============================] - 2s 5ms/step - loss: 1.4204 - val_loss: 0.6516\n",
      "Epoch 2/10\n",
      "242/242 [==============================] - 1s 4ms/step - loss: 0.6169 - val_loss: 0.5468\n",
      "Epoch 3/10\n",
      "242/242 [==============================] - 1s 4ms/step - loss: 0.5532 - val_loss: 0.5014\n",
      "Epoch 4/10\n",
      "242/242 [==============================] - 1s 4ms/step - loss: 0.5174 - val_loss: 0.4737\n",
      "Epoch 5/10\n",
      "242/242 [==============================] - 1s 4ms/step - loss: 0.4955 - val_loss: 0.4593\n",
      "Epoch 6/10\n",
      "242/242 [==============================] - 1s 4ms/step - loss: 0.4809 - val_loss: 0.4483\n",
      "Epoch 7/10\n",
      "242/242 [==============================] - 1s 4ms/step - loss: 0.4691 - val_loss: 0.4404\n",
      "Epoch 8/10\n",
      "242/242 [==============================] - 1s 4ms/step - loss: 0.4610 - val_loss: 0.4343\n",
      "Epoch 9/10\n",
      "242/242 [==============================] - 1s 4ms/step - loss: 0.4533 - val_loss: 0.4297\n",
      "Epoch 10/10\n",
      "242/242 [==============================] - 1s 4ms/step - loss: 0.4469 - val_loss: 0.4235\n",
      "121/121 [==============================] - 0s 2ms/step - loss: 0.4748\n",
      "Epoch 1/10\n"
     ]
    },
    {
     "name": "stderr",
     "output_type": "stream",
     "text": [
      "/home/gpu/pyenv/py3.8env/lib/python3.8/site-packages/keras/optimizer_v2/gradient_descent.py:102: UserWarning: The `lr` argument is deprecated, use `learning_rate` instead.\n",
      "  super(SGD, self).__init__(name, **kwargs)\n"
     ]
    },
    {
     "name": "stdout",
     "output_type": "stream",
     "text": [
      "242/242 [==============================] - 1s 4ms/step - loss: 1.6727 - val_loss: 0.6769\n",
      "Epoch 2/10\n",
      "242/242 [==============================] - 1s 4ms/step - loss: 0.6914 - val_loss: 0.5744\n",
      "Epoch 3/10\n",
      "242/242 [==============================] - 1s 4ms/step - loss: 0.5898 - val_loss: 0.5218\n",
      "Epoch 4/10\n",
      "242/242 [==============================] - 1s 4ms/step - loss: 0.5442 - val_loss: 0.4868\n",
      "Epoch 5/10\n",
      "242/242 [==============================] - 1s 4ms/step - loss: 0.5127 - val_loss: 0.4626\n",
      "Epoch 6/10\n",
      "242/242 [==============================] - 1s 4ms/step - loss: 0.4901 - val_loss: 0.4443\n",
      "Epoch 7/10\n",
      "242/242 [==============================] - 1s 4ms/step - loss: 0.4736 - val_loss: 0.4325\n",
      "Epoch 8/10\n",
      "242/242 [==============================] - 1s 4ms/step - loss: 0.4620 - val_loss: 0.4229\n",
      "Epoch 9/10\n",
      "242/242 [==============================] - 1s 4ms/step - loss: 0.4522 - val_loss: 0.4156\n",
      "Epoch 10/10\n",
      "242/242 [==============================] - 1s 4ms/step - loss: 0.4449 - val_loss: 0.4113\n",
      "121/121 [==============================] - 0s 2ms/step - loss: 0.4385\n",
      "Epoch 1/10\n"
     ]
    },
    {
     "name": "stderr",
     "output_type": "stream",
     "text": [
      "/home/gpu/pyenv/py3.8env/lib/python3.8/site-packages/keras/optimizer_v2/gradient_descent.py:102: UserWarning: The `lr` argument is deprecated, use `learning_rate` instead.\n",
      "  super(SGD, self).__init__(name, **kwargs)\n"
     ]
    },
    {
     "name": "stdout",
     "output_type": "stream",
     "text": [
      "242/242 [==============================] - 1s 5ms/step - loss: 1.2061 - val_loss: 0.7086\n",
      "Epoch 2/10\n",
      "242/242 [==============================] - 1s 4ms/step - loss: 0.6973 - val_loss: 0.6225\n",
      "Epoch 3/10\n",
      "242/242 [==============================] - 1s 4ms/step - loss: 0.6246 - val_loss: 0.5778\n",
      "Epoch 4/10\n",
      "242/242 [==============================] - 1s 4ms/step - loss: 0.5822 - val_loss: 0.5343\n",
      "Epoch 5/10\n",
      "242/242 [==============================] - 1s 4ms/step - loss: 0.5528 - val_loss: 0.5089\n",
      "Epoch 6/10\n",
      "242/242 [==============================] - 1s 4ms/step - loss: 0.5263 - val_loss: 0.4876\n",
      "Epoch 7/10\n",
      "242/242 [==============================] - 1s 4ms/step - loss: 0.5073 - val_loss: 0.4737\n",
      "Epoch 8/10\n",
      "242/242 [==============================] - 1s 4ms/step - loss: 0.4911 - val_loss: 0.4559\n",
      "Epoch 9/10\n",
      "242/242 [==============================] - 1s 4ms/step - loss: 0.4821 - val_loss: 0.4492\n",
      "Epoch 10/10\n",
      "242/242 [==============================] - 1s 4ms/step - loss: 0.4723 - val_loss: 0.4399\n",
      "121/121 [==============================] - 0s 2ms/step - loss: 0.4657\n",
      "Epoch 1/10\n"
     ]
    },
    {
     "name": "stderr",
     "output_type": "stream",
     "text": [
      "/home/gpu/pyenv/py3.8env/lib/python3.8/site-packages/keras/optimizer_v2/gradient_descent.py:102: UserWarning: The `lr` argument is deprecated, use `learning_rate` instead.\n",
      "  super(SGD, self).__init__(name, **kwargs)\n"
     ]
    },
    {
     "name": "stdout",
     "output_type": "stream",
     "text": [
      "242/242 [==============================] - 2s 5ms/step - loss: 1.7159 - val_loss: 0.9356\n",
      "Epoch 2/10\n",
      "242/242 [==============================] - 1s 5ms/step - loss: 0.8866 - val_loss: 0.7705\n",
      "Epoch 3/10\n",
      "242/242 [==============================] - 1s 5ms/step - loss: 0.7716 - val_loss: 0.7105\n",
      "Epoch 4/10\n",
      "242/242 [==============================] - 1s 5ms/step - loss: 0.7250 - val_loss: 0.6769\n",
      "Epoch 5/10\n",
      "242/242 [==============================] - 1s 5ms/step - loss: 0.6981 - val_loss: 0.6533\n",
      "Epoch 6/10\n",
      "242/242 [==============================] - 1s 5ms/step - loss: 0.6748 - val_loss: 0.6331\n",
      "Epoch 7/10\n",
      "242/242 [==============================] - 1s 5ms/step - loss: 0.6533 - val_loss: 0.6166\n",
      "Epoch 8/10\n",
      "242/242 [==============================] - 1s 5ms/step - loss: 0.6340 - val_loss: 0.5947\n",
      "Epoch 9/10\n",
      "242/242 [==============================] - 1s 5ms/step - loss: 0.6158 - val_loss: 0.5774\n",
      "Epoch 10/10\n",
      "242/242 [==============================] - 1s 5ms/step - loss: 0.5979 - val_loss: 0.5608\n",
      "121/121 [==============================] - 0s 2ms/step - loss: 0.6227\n",
      "Epoch 1/10\n"
     ]
    },
    {
     "name": "stderr",
     "output_type": "stream",
     "text": [
      "/home/gpu/pyenv/py3.8env/lib/python3.8/site-packages/keras/optimizer_v2/gradient_descent.py:102: UserWarning: The `lr` argument is deprecated, use `learning_rate` instead.\n",
      "  super(SGD, self).__init__(name, **kwargs)\n"
     ]
    },
    {
     "name": "stdout",
     "output_type": "stream",
     "text": [
      "242/242 [==============================] - 2s 6ms/step - loss: 2.4536 - val_loss: 1.2014\n",
      "Epoch 2/10\n",
      "242/242 [==============================] - 1s 5ms/step - loss: 1.1524 - val_loss: 1.0076\n",
      "Epoch 3/10\n",
      "242/242 [==============================] - 1s 5ms/step - loss: 0.9685 - val_loss: 0.8273\n",
      "Epoch 4/10\n",
      "242/242 [==============================] - 1s 5ms/step - loss: 0.8262 - val_loss: 0.7361\n",
      "Epoch 5/10\n",
      "242/242 [==============================] - 1s 5ms/step - loss: 0.7657 - val_loss: 0.6990\n",
      "Epoch 6/10\n",
      "242/242 [==============================] - 1s 5ms/step - loss: 0.7306 - val_loss: 0.6675\n",
      "Epoch 7/10\n",
      "242/242 [==============================] - 1s 5ms/step - loss: 0.6997 - val_loss: 0.6393\n",
      "Epoch 8/10\n",
      "242/242 [==============================] - 1s 5ms/step - loss: 0.6699 - val_loss: 0.6122\n",
      "Epoch 9/10\n",
      "242/242 [==============================] - 1s 5ms/step - loss: 0.6449 - val_loss: 0.5899\n",
      "Epoch 10/10\n",
      "242/242 [==============================] - 1s 5ms/step - loss: 0.6216 - val_loss: 0.5675\n",
      "121/121 [==============================] - 0s 2ms/step - loss: 0.5901\n",
      "Epoch 1/10\n"
     ]
    },
    {
     "name": "stderr",
     "output_type": "stream",
     "text": [
      "/home/gpu/pyenv/py3.8env/lib/python3.8/site-packages/keras/optimizer_v2/gradient_descent.py:102: UserWarning: The `lr` argument is deprecated, use `learning_rate` instead.\n",
      "  super(SGD, self).__init__(name, **kwargs)\n"
     ]
    },
    {
     "name": "stdout",
     "output_type": "stream",
     "text": [
      "242/242 [==============================] - 2s 6ms/step - loss: 1.9041 - val_loss: 1.2424\n",
      "Epoch 2/10\n",
      "242/242 [==============================] - 1s 5ms/step - loss: 1.2386 - val_loss: 1.1502\n",
      "Epoch 3/10\n",
      "242/242 [==============================] - 1s 5ms/step - loss: 1.1008 - val_loss: 0.9788\n",
      "Epoch 4/10\n",
      "242/242 [==============================] - 1s 5ms/step - loss: 0.9257 - val_loss: 0.8156\n",
      "Epoch 5/10\n",
      "242/242 [==============================] - 1s 5ms/step - loss: 0.7918 - val_loss: 0.7048\n",
      "Epoch 6/10\n",
      "242/242 [==============================] - 1s 5ms/step - loss: 0.7073 - val_loss: 0.6336\n",
      "Epoch 7/10\n",
      "242/242 [==============================] - 1s 5ms/step - loss: 0.6480 - val_loss: 0.5806\n",
      "Epoch 8/10\n",
      "242/242 [==============================] - 1s 5ms/step - loss: 0.6004 - val_loss: 0.5424\n",
      "Epoch 9/10\n",
      "242/242 [==============================] - 1s 5ms/step - loss: 0.5608 - val_loss: 0.5080\n",
      "Epoch 10/10\n",
      "242/242 [==============================] - 1s 5ms/step - loss: 0.5331 - val_loss: 0.4916\n",
      "121/121 [==============================] - 0s 2ms/step - loss: 0.5217\n",
      "Epoch 1/10\n"
     ]
    },
    {
     "name": "stderr",
     "output_type": "stream",
     "text": [
      "/home/gpu/pyenv/py3.8env/lib/python3.8/site-packages/keras/optimizer_v2/gradient_descent.py:102: UserWarning: The `lr` argument is deprecated, use `learning_rate` instead.\n",
      "  super(SGD, self).__init__(name, **kwargs)\n"
     ]
    },
    {
     "name": "stdout",
     "output_type": "stream",
     "text": [
      "242/242 [==============================] - 2s 5ms/step - loss: 1.3182 - val_loss: 0.6982\n",
      "Epoch 2/10\n",
      "242/242 [==============================] - 1s 5ms/step - loss: 0.6585 - val_loss: 0.5865\n",
      "Epoch 3/10\n",
      "242/242 [==============================] - 1s 5ms/step - loss: 0.5848 - val_loss: 0.5314\n",
      "Epoch 4/10\n",
      "242/242 [==============================] - 1s 5ms/step - loss: 0.5423 - val_loss: 0.4977\n",
      "Epoch 5/10\n",
      "242/242 [==============================] - 1s 4ms/step - loss: 0.5143 - val_loss: 0.4720\n",
      "Epoch 6/10\n",
      "242/242 [==============================] - 1s 4ms/step - loss: 0.4928 - val_loss: 0.4564\n",
      "Epoch 7/10\n",
      "242/242 [==============================] - 1s 5ms/step - loss: 0.4771 - val_loss: 0.4434\n",
      "Epoch 8/10\n",
      "242/242 [==============================] - 1s 4ms/step - loss: 0.4662 - val_loss: 0.4315\n",
      "Epoch 9/10\n",
      "242/242 [==============================] - 1s 4ms/step - loss: 0.4554 - val_loss: 0.4222\n",
      "Epoch 10/10\n",
      "242/242 [==============================] - 1s 5ms/step - loss: 0.4462 - val_loss: 0.4178\n",
      "121/121 [==============================] - 0s 2ms/step - loss: 0.4621\n",
      "Epoch 1/10\n"
     ]
    },
    {
     "name": "stderr",
     "output_type": "stream",
     "text": [
      "/home/gpu/pyenv/py3.8env/lib/python3.8/site-packages/keras/optimizer_v2/gradient_descent.py:102: UserWarning: The `lr` argument is deprecated, use `learning_rate` instead.\n",
      "  super(SGD, self).__init__(name, **kwargs)\n"
     ]
    },
    {
     "name": "stdout",
     "output_type": "stream",
     "text": [
      "242/242 [==============================] - 2s 5ms/step - loss: 1.5310 - val_loss: 0.6552\n",
      "Epoch 2/10\n",
      "242/242 [==============================] - 1s 5ms/step - loss: 0.6411 - val_loss: 0.5410\n",
      "Epoch 3/10\n",
      "242/242 [==============================] - 1s 4ms/step - loss: 0.5577 - val_loss: 0.4949\n",
      "Epoch 4/10\n",
      "242/242 [==============================] - 1s 4ms/step - loss: 0.5187 - val_loss: 0.4684\n",
      "Epoch 5/10\n",
      "242/242 [==============================] - 1s 4ms/step - loss: 0.4914 - val_loss: 0.4476\n",
      "Epoch 6/10\n",
      "242/242 [==============================] - 1s 5ms/step - loss: 0.4719 - val_loss: 0.4347\n",
      "Epoch 7/10\n",
      "242/242 [==============================] - 1s 4ms/step - loss: 0.4575 - val_loss: 0.4230\n",
      "Epoch 8/10\n",
      "242/242 [==============================] - 1s 4ms/step - loss: 0.4462 - val_loss: 0.4150\n",
      "Epoch 9/10\n",
      "242/242 [==============================] - 1s 5ms/step - loss: 0.4362 - val_loss: 0.4081\n",
      "Epoch 10/10\n",
      "242/242 [==============================] - 1s 4ms/step - loss: 0.4280 - val_loss: 0.4014\n",
      "121/121 [==============================] - 0s 2ms/step - loss: 0.4293\n",
      "Epoch 1/10\n"
     ]
    },
    {
     "name": "stderr",
     "output_type": "stream",
     "text": [
      "/home/gpu/pyenv/py3.8env/lib/python3.8/site-packages/keras/optimizer_v2/gradient_descent.py:102: UserWarning: The `lr` argument is deprecated, use `learning_rate` instead.\n",
      "  super(SGD, self).__init__(name, **kwargs)\n"
     ]
    },
    {
     "name": "stdout",
     "output_type": "stream",
     "text": [
      "242/242 [==============================] - 2s 5ms/step - loss: 1.5265 - val_loss: 0.7127\n",
      "Epoch 2/10\n",
      "242/242 [==============================] - 1s 4ms/step - loss: 0.6849 - val_loss: 0.6082\n",
      "Epoch 3/10\n",
      "242/242 [==============================] - 1s 4ms/step - loss: 0.6103 - val_loss: 0.5625\n",
      "Epoch 4/10\n",
      "242/242 [==============================] - 1s 5ms/step - loss: 0.5549 - val_loss: 0.5013\n",
      "Epoch 5/10\n",
      "242/242 [==============================] - 1s 4ms/step - loss: 0.5189 - val_loss: 0.4791\n",
      "Epoch 6/10\n",
      "242/242 [==============================] - 1s 4ms/step - loss: 0.4965 - val_loss: 0.4645\n",
      "Epoch 7/10\n",
      "242/242 [==============================] - 1s 5ms/step - loss: 0.4788 - val_loss: 0.4355\n",
      "Epoch 8/10\n",
      "242/242 [==============================] - 1s 5ms/step - loss: 0.4686 - val_loss: 0.4274\n",
      "Epoch 9/10\n",
      "242/242 [==============================] - 1s 5ms/step - loss: 0.4521 - val_loss: 0.4182\n",
      "Epoch 10/10\n",
      "242/242 [==============================] - 1s 5ms/step - loss: 0.4463 - val_loss: 0.4153\n",
      "121/121 [==============================] - 0s 2ms/step - loss: 0.4463\n",
      "Epoch 1/10\n",
      "363/363 [==============================] - 2s 4ms/step - loss: 1.1579 - val_loss: 0.6201\n",
      "Epoch 2/10\n",
      "363/363 [==============================] - 1s 4ms/step - loss: 0.5752 - val_loss: 0.5042\n",
      "Epoch 3/10\n",
      "363/363 [==============================] - 2s 4ms/step - loss: 0.5127 - val_loss: 0.4626\n",
      "Epoch 4/10\n",
      "363/363 [==============================] - 2s 4ms/step - loss: 0.4768 - val_loss: 0.4352\n",
      "Epoch 5/10\n",
      "363/363 [==============================] - 1s 4ms/step - loss: 0.4555 - val_loss: 0.4246\n",
      "Epoch 6/10\n",
      "363/363 [==============================] - 2s 4ms/step - loss: 0.4420 - val_loss: 0.4094\n",
      "Epoch 7/10\n",
      "363/363 [==============================] - 1s 4ms/step - loss: 0.4313 - val_loss: 0.4017\n",
      "Epoch 8/10\n",
      "363/363 [==============================] - 1s 4ms/step - loss: 0.4230 - val_loss: 0.3937\n",
      "Epoch 9/10\n",
      "363/363 [==============================] - 1s 4ms/step - loss: 0.4157 - val_loss: 0.3893\n",
      "Epoch 10/10\n",
      "363/363 [==============================] - 1s 4ms/step - loss: 0.4095 - val_loss: 0.3845\n"
     ]
    },
    {
     "data": {
      "text/plain": [
       "RandomizedSearchCV(cv=3,\n",
       "                   estimator=<keras.wrappers.scikit_learn.KerasRegressor object at 0x7f57ac3f1370>,\n",
       "                   param_distributions={'lr_rate': <scipy.stats._distn_infrastructure.rv_frozen object at 0x7f575809ea00>,\n",
       "                                        'n_hidden': [0, 1, 2, 3, 4, 5],\n",
       "                                        'n_neurons': array([ 1,  2,  3,  4,  5,  6,  7,  8,  9, 10, 11, 12, 13, 14, 15, 16, 17,\n",
       "       18, 19, 20, 21, 22, 23, 24, 25, 26, 27, 28, 29, 30, 31, 32, 33, 34,\n",
       "       35, 36, 37, 38, 39, 40, 41, 42, 43, 44, 45, 46, 47, 48, 49, 50, 51,\n",
       "       52, 53, 54, 55, 56, 57, 58, 59, 60, 61, 62, 63, 64, 65, 66, 67, 68,\n",
       "       69, 70, 71, 72, 73, 74, 75, 76, 77, 78, 79, 80, 81, 82, 83, 84, 85,\n",
       "       86, 87, 88, 89, 90, 91, 92, 93, 94, 95, 96, 97, 98, 99])})"
      ]
     },
     "execution_count": 41,
     "metadata": {},
     "output_type": "execute_result"
    }
   ],
   "source": [
    "rnd_search_cv= RandomizedSearchCV(keras_reg, params_distrib, n_iter=10, cv=3)\n",
    "rnd_search_cv.fit(X_train, Y_train, epochs=10, validation_data=(X_valid, Y_valid))"
   ]
  },
  {
   "cell_type": "code",
   "execution_count": 42,
   "id": "fa667c31",
   "metadata": {},
   "outputs": [
    {
     "data": {
      "text/plain": [
       "{'lr_rate': 0.0025036834641111536, 'n_hidden': 3, 'n_neurons': 64}"
      ]
     },
     "execution_count": 42,
     "metadata": {},
     "output_type": "execute_result"
    }
   ],
   "source": [
    "rnd_search_cv.best_params_"
   ]
  },
  {
   "cell_type": "code",
   "execution_count": 43,
   "id": "072ce0fa",
   "metadata": {},
   "outputs": [
    {
     "data": {
      "text/plain": [
       "-0.4459107220172882"
      ]
     },
     "execution_count": 43,
     "metadata": {},
     "output_type": "execute_result"
    }
   ],
   "source": [
    "rnd_search_cv.best_score_"
   ]
  },
  {
   "cell_type": "code",
   "execution_count": 44,
   "id": "33cef06e",
   "metadata": {},
   "outputs": [],
   "source": [
    "model = rnd_search_cv.best_estimator_.model"
   ]
  },
  {
   "cell_type": "code",
   "execution_count": 45,
   "id": "e1ba9b04",
   "metadata": {},
   "outputs": [
    {
     "data": {
      "text/plain": [
       "array([[2.1433363],\n",
       "       [3.9937038],\n",
       "       [2.4136534]], dtype=float32)"
      ]
     },
     "execution_count": 45,
     "metadata": {},
     "output_type": "execute_result"
    }
   ],
   "source": [
    "model.predict(X_test[:3])"
   ]
  },
  {
   "cell_type": "code",
   "execution_count": 46,
   "id": "dc632676",
   "metadata": {},
   "outputs": [
    {
     "data": {
      "text/plain": [
       "array([1.992, 3.609, 1.289])"
      ]
     },
     "execution_count": 46,
     "metadata": {},
     "output_type": "execute_result"
    }
   ],
   "source": [
    "Y_test[:3]"
   ]
  }
 ],
 "metadata": {
  "kernelspec": {
   "display_name": "Python 3 (ipykernel)",
   "language": "python",
   "name": "python3"
  },
  "language_info": {
   "codemirror_mode": {
    "name": "ipython",
    "version": 3
   },
   "file_extension": ".py",
   "mimetype": "text/x-python",
   "name": "python",
   "nbconvert_exporter": "python",
   "pygments_lexer": "ipython3",
   "version": "3.8.0"
  }
 },
 "nbformat": 4,
 "nbformat_minor": 5
}
